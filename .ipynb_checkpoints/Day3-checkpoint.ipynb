{
 "cells": [
  {
   "cell_type": "code",
   "execution_count": 8,
   "id": "430ff825",
   "metadata": {},
   "outputs": [],
   "source": [
    "class Node:\n",
    "    def __init__(self, data):\n",
    "        self.left = None\n",
    "        self.right = None\n",
    "        self.data = data\n",
    "    def show(self):\n",
    "        return f'data={self.data}, left={self.left.data if self.left else None}, right={self.right.data if self.right else None}'"
   ]
  },
  {
   "cell_type": "code",
   "execution_count": 25,
   "id": "909eb31d",
   "metadata": {},
   "outputs": [],
   "source": [
    "Jaipur_node = Node(1)"
   ]
  },
  {
   "cell_type": "code",
   "execution_count": 26,
   "id": "30d52ef6",
   "metadata": {},
   "outputs": [],
   "source": [
    "Bangalore_node = Node(2)"
   ]
  },
  {
   "cell_type": "code",
   "execution_count": 27,
   "id": "25113f78",
   "metadata": {},
   "outputs": [],
   "source": [
    "Delhi_node = Node(3)"
   ]
  },
  {
   "cell_type": "code",
   "execution_count": 28,
   "id": "ae478ada",
   "metadata": {},
   "outputs": [
    {
     "data": {
      "text/plain": [
       "'data=1, left=None, right=None'"
      ]
     },
     "execution_count": 28,
     "metadata": {},
     "output_type": "execute_result"
    }
   ],
   "source": [
    "Jaipur_node.show()"
   ]
  },
  {
   "cell_type": "code",
   "execution_count": 29,
   "id": "a0b82c59",
   "metadata": {},
   "outputs": [],
   "source": [
    "Jaipur_node.left = Bangalore_node"
   ]
  },
  {
   "cell_type": "code",
   "execution_count": 30,
   "id": "edd9ab65",
   "metadata": {},
   "outputs": [],
   "source": [
    "Jaipur_node.right = Delhi_node"
   ]
  },
  {
   "cell_type": "code",
   "execution_count": 31,
   "id": "5fc78b1b",
   "metadata": {},
   "outputs": [
    {
     "data": {
      "text/plain": [
       "'data=1, left=2, right=3'"
      ]
     },
     "execution_count": 31,
     "metadata": {},
     "output_type": "execute_result"
    }
   ],
   "source": [
    "Jaipur_node.show()"
   ]
  },
  {
   "cell_type": "code",
   "execution_count": 32,
   "id": "3f82d0e3",
   "metadata": {},
   "outputs": [
    {
     "data": {
      "text/plain": [
       "'data=2, left=None, right=None'"
      ]
     },
     "execution_count": 32,
     "metadata": {},
     "output_type": "execute_result"
    }
   ],
   "source": [
    "Bangalore_node.show()"
   ]
  },
  {
   "cell_type": "code",
   "execution_count": 33,
   "id": "a51c1182",
   "metadata": {},
   "outputs": [
    {
     "data": {
      "text/plain": [
       "'data=3, left=None, right=None'"
      ]
     },
     "execution_count": 33,
     "metadata": {},
     "output_type": "execute_result"
    }
   ],
   "source": [
    "Delhi_node.show()"
   ]
  },
  {
   "cell_type": "markdown",
   "id": "fc73bd6b",
   "metadata": {},
   "source": [
    "# BINARY SEARCH TREE"
   ]
  },
  {
   "cell_type": "code",
   "execution_count": 41,
   "id": "206e7118",
   "metadata": {},
   "outputs": [],
   "source": [
    "def insert_in_bst(current_root, data):\n",
    "    # empty tree\n",
    "    if current_root is None:\n",
    "        return Node(data) # this is the time when there is no more\n",
    "    # further child available of current_root\n",
    "    \n",
    "    if data <= current_root.data:\n",
    "        current_root.left = insert_in_bst(current_root.left,data)\n",
    "    else:\n",
    "        current_root.right = insert_in_bst(current_root.right,data)\n",
    "    return current_root"
   ]
  }
 ],
 "metadata": {
  "kernelspec": {
   "display_name": "Python 3 (ipykernel)",
   "language": "python",
   "name": "python3"
  },
  "language_info": {
   "codemirror_mode": {
    "name": "ipython",
    "version": 3
   },
   "file_extension": ".py",
   "mimetype": "text/x-python",
   "name": "python",
   "nbconvert_exporter": "python",
   "pygments_lexer": "ipython3",
   "version": "3.8.9"
  }
 },
 "nbformat": 4,
 "nbformat_minor": 5
}
