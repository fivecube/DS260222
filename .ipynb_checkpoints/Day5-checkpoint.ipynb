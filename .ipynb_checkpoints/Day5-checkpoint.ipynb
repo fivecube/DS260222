{
 "cells": [
  {
   "cell_type": "code",
   "execution_count": 15,
   "id": "d5dded55",
   "metadata": {},
   "outputs": [],
   "source": [
    "class graph:\n",
    "    def __init__(self):\n",
    "        self.graph = {}\n",
    "        self.visited = []\n",
    "        \n",
    "    def addEdge(self, u, v):\n",
    "        if u in self.graph.keys():\n",
    "            self.graph[u].append(v)\n",
    "        else:\n",
    "            self.graph[u] = [v]\n",
    "        if v not in self.graph.keys():\n",
    "            self.graph[v] = []\n",
    "            \n",
    "    def BFS(self):\n",
    "        self.visited = []\n",
    "        queue = []\n",
    "        for v in self.graph.keys():\n",
    "            if v in self.visited:\n",
    "                continue\n",
    "            queue.append(v)\n",
    "            self.visited.append(v)\n",
    "            while len(queue)!=0:\n",
    "                poped_item = queue.pop(0)\n",
    "                print(poped_item)\n",
    "                for neighbour in self.graph[poped_item]:\n",
    "                    if neighbour not in self.visited:\n",
    "                        queue.append(neighbour)\n",
    "                        self.visited.append(neighbour)\n",
    "    \n",
    "    def Explore(self, v):\n",
    "        self.visited.append(v)\n",
    "        print(v)\n",
    "        for neighbour in self.graph[v]:\n",
    "            if neighbour not in self.visited:\n",
    "                self.Explore(neighbour)\n",
    "        \n",
    "    \n",
    "    def DFS(self):\n",
    "        self.visited = []\n",
    "        for v in self.graph.keys():\n",
    "            if v in self.visited:\n",
    "                continue\n",
    "            self.Explore(v)"
   ]
  },
  {
   "cell_type": "code",
   "execution_count": 16,
   "id": "0b8a0cc5",
   "metadata": {},
   "outputs": [
    {
     "name": "stdout",
     "output_type": "stream",
     "text": [
      "{'A': ['C', 'D', 'B'], 'C': [], 'D': [], 'B': ['F'], 'F': []}\n"
     ]
    }
   ],
   "source": [
    "g = graph()\n",
    "g.addEdge('A','C')\n",
    "g.addEdge('A','D')\n",
    "g.addEdge('A','B')\n",
    "g.addEdge('B','F')\n",
    "\n",
    "print(g.graph)"
   ]
  },
  {
   "cell_type": "code",
   "execution_count": 17,
   "id": "517e126e",
   "metadata": {},
   "outputs": [
    {
     "name": "stdout",
     "output_type": "stream",
     "text": [
      "A\n",
      "C\n",
      "D\n",
      "B\n",
      "F\n"
     ]
    }
   ],
   "source": [
    "g.BFS()"
   ]
  },
  {
   "cell_type": "code",
   "execution_count": 18,
   "id": "0b0b3f1a",
   "metadata": {},
   "outputs": [
    {
     "name": "stdout",
     "output_type": "stream",
     "text": [
      "A\n",
      "C\n",
      "D\n",
      "B\n",
      "F\n"
     ]
    }
   ],
   "source": [
    "g.DFS()"
   ]
  },
  {
   "cell_type": "code",
   "execution_count": 19,
   "id": "556849af",
   "metadata": {},
   "outputs": [],
   "source": [
    "g2 = graph()\n",
    "g2.addEdge('B','F')\n",
    "g2.addEdge('B','A')\n",
    "g2.addEdge('B','E')\n",
    "g2.addEdge('B','D')\n",
    "g2.addEdge('B','C')\n",
    "\n",
    "g2.addEdge('A','Y')\n",
    "g2.addEdge('C','X')\n",
    "\n",
    "g2.addEdge('D','X')\n",
    "g2.addEdge('E','Z')\n",
    "g2.addEdge('Z','M')\n",
    "g2.addEdge('M','N')"
   ]
  },
  {
   "cell_type": "code",
   "execution_count": 20,
   "id": "036c1dd9",
   "metadata": {},
   "outputs": [
    {
     "name": "stdout",
     "output_type": "stream",
     "text": [
      "B\n",
      "F\n",
      "A\n",
      "E\n",
      "D\n",
      "C\n",
      "Y\n",
      "Z\n",
      "X\n",
      "M\n",
      "N\n"
     ]
    }
   ],
   "source": [
    "g2.BFS()"
   ]
  },
  {
   "cell_type": "code",
   "execution_count": 21,
   "id": "f3f8bc7d",
   "metadata": {},
   "outputs": [
    {
     "name": "stdout",
     "output_type": "stream",
     "text": [
      "B\n",
      "F\n",
      "A\n",
      "Y\n",
      "E\n",
      "Z\n",
      "M\n",
      "N\n",
      "D\n",
      "X\n",
      "C\n"
     ]
    }
   ],
   "source": [
    "g2.DFS()"
   ]
  },
  {
   "cell_type": "code",
   "execution_count": 1,
   "id": "4f0856a4",
   "metadata": {},
   "outputs": [],
   "source": [
    "x = {'A': ['B'],\n",
    "    'B': []}\n",
    "\n",
    "x['A'] = ['B']"
   ]
  },
  {
   "cell_type": "code",
   "execution_count": 2,
   "id": "2833e7d2",
   "metadata": {},
   "outputs": [
    {
     "name": "stdout",
     "output_type": "stream",
     "text": [
      "{'A': ['B']}\n"
     ]
    }
   ],
   "source": [
    "print(x)"
   ]
  },
  {
   "cell_type": "code",
   "execution_count": 3,
   "id": "f1bf0b46",
   "metadata": {},
   "outputs": [
    {
     "name": "stdout",
     "output_type": "stream",
     "text": [
      "{'A': ['B', 'F']}\n"
     ]
    }
   ],
   "source": [
    "x['A'].append('F')\n",
    "print(x)"
   ]
  },
  {
   "cell_type": "code",
   "execution_count": null,
   "id": "d336729d",
   "metadata": {},
   "outputs": [],
   "source": [
    "LEFTOVER:-\n",
    "#     INSERTION SORT\n",
    "#     SELECTION SORT\n",
    "homework initially\n",
    "https://visualgo.net/en/sorting?slide=4"
   ]
  },
  {
   "cell_type": "markdown",
   "id": "f34b78b2",
   "metadata": {},
   "source": [
    "# Bucket Sort"
   ]
  },
  {
   "cell_type": "code",
   "execution_count": null,
   "id": "7dbc53be",
   "metadata": {},
   "outputs": [],
   "source": [
    "[11, 27, 49, 45, 89, 93, 14, 23, 46]\n",
    "\n",
    "1) How do you want to create a bucket?\n",
    "2) Form buckets\n",
    "3) Sort all the buckets with any algorithm individually\n",
    "4) Take the sorted buckets and add them one by one(in \n",
    "                                                  the sorted manner)\n",
    "\n",
    "{\n",
    "'0': [],\n",
    "'1': [11, 14],\n",
    "'2': [23, 27],\n",
    "'3': [],\n",
    "'4': [45, 46, 49],\n",
    "'5': [],\n",
    "'6': [],\n",
    "'7': [],\n",
    "'8': [89],\n",
    "'9': [93]\n",
    "}\n",
    "\n",
    "11, 14, 23, 27, 45, 46, 49, 89, 93"
   ]
  },
  {
   "cell_type": "markdown",
   "id": "6b90b4d8",
   "metadata": {},
   "source": [
    "# MERGE SORT"
   ]
  },
  {
   "cell_type": "code",
   "execution_count": 22,
   "id": "495d41cc",
   "metadata": {},
   "outputs": [],
   "source": [
    "def Merge(B,C):\n",
    "    D = []\n",
    "    while len(B)!=0 and len(C)!=0:\n",
    "        b = B[0]\n",
    "        c = C[0]\n",
    "        if b<=c:\n",
    "            D.append(b)\n",
    "            B.pop(0)\n",
    "        else:\n",
    "            D.append(c)\n",
    "            C.pop(0)\n",
    "    if len(B)!=0:\n",
    "        D.extend(B)\n",
    "    if len(C)!=0:\n",
    "        D.extend(C)\n",
    "    return D"
   ]
  },
  {
   "cell_type": "code",
   "execution_count": null,
   "id": "38005ed2",
   "metadata": {},
   "outputs": [],
   "source": [
    "def merge_sort(A):\n",
    "    n = len(A)\n",
    "    if n==1:\n",
    "        return A\n",
    "    m = n//2\n",
    "    B = merge_sort(A[:m])\n",
    "    C = merge_sort(A[m:])\n",
    "    A_merged = Merge(B,C)\n",
    "    return A_merged"
   ]
  }
 ],
 "metadata": {
  "kernelspec": {
   "display_name": "Python 3 (ipykernel)",
   "language": "python",
   "name": "python3"
  },
  "language_info": {
   "codemirror_mode": {
    "name": "ipython",
    "version": 3
   },
   "file_extension": ".py",
   "mimetype": "text/x-python",
   "name": "python",
   "nbconvert_exporter": "python",
   "pygments_lexer": "ipython3",
   "version": "3.8.9"
  }
 },
 "nbformat": 4,
 "nbformat_minor": 5
}
