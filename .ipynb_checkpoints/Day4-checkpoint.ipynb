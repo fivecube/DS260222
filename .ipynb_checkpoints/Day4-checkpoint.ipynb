{
 "cells": [
  {
   "cell_type": "code",
   "execution_count": 8,
   "id": "430ff825",
   "metadata": {},
   "outputs": [],
   "source": [
    "class Node:\n",
    "    def __init__(self, data):\n",
    "        self.left = None\n",
    "        self.right = None\n",
    "        self.data = data\n",
    "    def show(self):\n",
    "        return f'data={self.data}, left={self.left.data if self.left else None}, right={self.right.data if self.right else None}'"
   ]
  },
  {
   "cell_type": "code",
   "execution_count": 25,
   "id": "909eb31d",
   "metadata": {},
   "outputs": [],
   "source": [
    "Jaipur_node = Node(1)"
   ]
  },
  {
   "cell_type": "code",
   "execution_count": 26,
   "id": "30d52ef6",
   "metadata": {},
   "outputs": [],
   "source": [
    "Bangalore_node = Node(2)"
   ]
  },
  {
   "cell_type": "code",
   "execution_count": 27,
   "id": "25113f78",
   "metadata": {},
   "outputs": [],
   "source": [
    "Delhi_node = Node(3)"
   ]
  },
  {
   "cell_type": "code",
   "execution_count": 28,
   "id": "ae478ada",
   "metadata": {},
   "outputs": [
    {
     "data": {
      "text/plain": [
       "'data=1, left=None, right=None'"
      ]
     },
     "execution_count": 28,
     "metadata": {},
     "output_type": "execute_result"
    }
   ],
   "source": [
    "Jaipur_node.show()"
   ]
  },
  {
   "cell_type": "code",
   "execution_count": 29,
   "id": "a0b82c59",
   "metadata": {},
   "outputs": [],
   "source": [
    "Jaipur_node.left = Bangalore_node"
   ]
  },
  {
   "cell_type": "code",
   "execution_count": 30,
   "id": "edd9ab65",
   "metadata": {},
   "outputs": [],
   "source": [
    "Jaipur_node.right = Delhi_node"
   ]
  },
  {
   "cell_type": "code",
   "execution_count": 31,
   "id": "5fc78b1b",
   "metadata": {},
   "outputs": [
    {
     "data": {
      "text/plain": [
       "'data=1, left=2, right=3'"
      ]
     },
     "execution_count": 31,
     "metadata": {},
     "output_type": "execute_result"
    }
   ],
   "source": [
    "Jaipur_node.show()"
   ]
  },
  {
   "cell_type": "code",
   "execution_count": 32,
   "id": "3f82d0e3",
   "metadata": {},
   "outputs": [
    {
     "data": {
      "text/plain": [
       "'data=2, left=None, right=None'"
      ]
     },
     "execution_count": 32,
     "metadata": {},
     "output_type": "execute_result"
    }
   ],
   "source": [
    "Bangalore_node.show()"
   ]
  },
  {
   "cell_type": "code",
   "execution_count": 33,
   "id": "a51c1182",
   "metadata": {},
   "outputs": [
    {
     "data": {
      "text/plain": [
       "'data=3, left=None, right=None'"
      ]
     },
     "execution_count": 33,
     "metadata": {},
     "output_type": "execute_result"
    }
   ],
   "source": [
    "Delhi_node.show()"
   ]
  },
  {
   "cell_type": "markdown",
   "id": "fc73bd6b",
   "metadata": {},
   "source": [
    "# BINARY SEARCH TREE"
   ]
  },
  {
   "cell_type": "code",
   "execution_count": 41,
   "id": "206e7118",
   "metadata": {},
   "outputs": [],
   "source": [
    "def insert_in_bst(current_root, data):\n",
    "    # empty tree\n",
    "    if current_root is None:\n",
    "        return Node(data) # this is the time when there is no more\n",
    "    # further child available of current_root\n",
    "    \n",
    "    if data <= current_root.data:\n",
    "        current_root.left = insert_in_bst(current_root.left,data)\n",
    "    else:\n",
    "        current_root.right = insert_in_bst(current_root.right,data)\n",
    "    return current_root"
   ]
  },
  {
   "cell_type": "code",
   "execution_count": 42,
   "id": "f8d4b51c",
   "metadata": {},
   "outputs": [
    {
     "data": {
      "text/plain": [
       "<__main__.Node at 0x1052ecc10>"
      ]
     },
     "execution_count": 42,
     "metadata": {},
     "output_type": "execute_result"
    }
   ],
   "source": [
    "# Insert 49\n",
    "root = insert_in_bst(None, 49)\n",
    "insert_in_bst(root, 53)\n",
    "insert_in_bst(root, 45)\n",
    "insert_in_bst(root, 56)\n",
    "insert_in_bst(root, 48)\n",
    "insert_in_bst(root, 58)\n",
    "insert_in_bst(root, 30)\n",
    "insert_in_bst(root, 50)"
   ]
  },
  {
   "cell_type": "code",
   "execution_count": 43,
   "id": "1769817b",
   "metadata": {},
   "outputs": [],
   "source": [
    "def bfs(root):\n",
    "    queue = []\n",
    "    \n",
    "    # empty tree\n",
    "    if root is None:\n",
    "        return\n",
    "    \n",
    "    queue.append(root)\n",
    "    \n",
    "    while(len(queue)!=0):\n",
    "        node = queue.pop(0)\n",
    "        print(node.data)\n",
    "        \n",
    "        if node.left is not None:\n",
    "            queue.append(node.left)\n",
    "        if node.right is not None:\n",
    "            queue.append(node.right)"
   ]
  },
  {
   "cell_type": "code",
   "execution_count": 44,
   "id": "3bf8d438",
   "metadata": {},
   "outputs": [
    {
     "name": "stdout",
     "output_type": "stream",
     "text": [
      "49\n",
      "45\n",
      "53\n",
      "30\n",
      "48\n",
      "50\n",
      "56\n",
      "58\n"
     ]
    }
   ],
   "source": [
    "bfs(root)"
   ]
  },
  {
   "cell_type": "code",
   "execution_count": 45,
   "id": "4a85c065",
   "metadata": {},
   "outputs": [
    {
     "data": {
      "text/plain": [
       "<__main__.Node at 0x1052ecc10>"
      ]
     },
     "execution_count": 45,
     "metadata": {},
     "output_type": "execute_result"
    }
   ],
   "source": [
    "insert_in_bst(root, 49)"
   ]
  },
  {
   "cell_type": "code",
   "execution_count": 46,
   "id": "83b2cf49",
   "metadata": {},
   "outputs": [
    {
     "name": "stdout",
     "output_type": "stream",
     "text": [
      "49\n",
      "45\n",
      "53\n",
      "30\n",
      "48\n",
      "50\n",
      "56\n",
      "49\n",
      "58\n"
     ]
    }
   ],
   "source": [
    "bfs(root)"
   ]
  },
  {
   "cell_type": "code",
   "execution_count": 47,
   "id": "fc6ea65d",
   "metadata": {},
   "outputs": [],
   "source": [
    "def inorder(root):\n",
    "    if root is not None:\n",
    "        inorder(root.left)\n",
    "        print(root.data)\n",
    "        inorder(root.right)"
   ]
  },
  {
   "cell_type": "code",
   "execution_count": 48,
   "id": "cfe9cbed",
   "metadata": {},
   "outputs": [
    {
     "name": "stdout",
     "output_type": "stream",
     "text": [
      "30\n",
      "45\n",
      "48\n",
      "49\n",
      "49\n",
      "50\n",
      "53\n",
      "56\n",
      "58\n"
     ]
    }
   ],
   "source": [
    "inorder(root)"
   ]
  },
  {
   "cell_type": "code",
   "execution_count": 49,
   "id": "6d5fec37",
   "metadata": {},
   "outputs": [],
   "source": [
    "def preorder(root):\n",
    "    if root is not None:\n",
    "        print(root.data)\n",
    "        inorder(root.left)\n",
    "        inorder(root.right)"
   ]
  },
  {
   "cell_type": "code",
   "execution_count": 50,
   "id": "11f7005a",
   "metadata": {},
   "outputs": [
    {
     "name": "stdout",
     "output_type": "stream",
     "text": [
      "49\n",
      "30\n",
      "45\n",
      "48\n",
      "49\n",
      "50\n",
      "53\n",
      "56\n",
      "58\n"
     ]
    }
   ],
   "source": [
    "preorder(root)"
   ]
  },
  {
   "cell_type": "code",
   "execution_count": 51,
   "id": "361c1abb",
   "metadata": {},
   "outputs": [],
   "source": [
    "def postorder(root):\n",
    "    if root is not None:\n",
    "        inorder(root.left)\n",
    "        inorder(root.right)\n",
    "        print(root.data)"
   ]
  },
  {
   "cell_type": "code",
   "execution_count": 52,
   "id": "a7166f7e",
   "metadata": {},
   "outputs": [
    {
     "name": "stdout",
     "output_type": "stream",
     "text": [
      "30\n",
      "45\n",
      "48\n",
      "49\n",
      "50\n",
      "53\n",
      "56\n",
      "58\n",
      "49\n"
     ]
    }
   ],
   "source": [
    "postorder(root)"
   ]
  },
  {
   "cell_type": "code",
   "execution_count": null,
   "id": "320c669b",
   "metadata": {},
   "outputs": [],
   "source": [
    "Required:\n",
    "    1) Recursion.\n",
    "    2) Basics of Trees from yesterday lecture."
   ]
  }
 ],
 "metadata": {
  "kernelspec": {
   "display_name": "Python 3 (ipykernel)",
   "language": "python",
   "name": "python3"
  },
  "language_info": {
   "codemirror_mode": {
    "name": "ipython",
    "version": 3
   },
   "file_extension": ".py",
   "mimetype": "text/x-python",
   "name": "python",
   "nbconvert_exporter": "python",
   "pygments_lexer": "ipython3",
   "version": "3.8.9"
  }
 },
 "nbformat": 4,
 "nbformat_minor": 5
}
