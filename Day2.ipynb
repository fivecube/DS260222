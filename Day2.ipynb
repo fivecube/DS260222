{
 "cells": [
  {
   "cell_type": "code",
   "execution_count": 5,
   "id": "416f0211",
   "metadata": {},
   "outputs": [],
   "source": [
    "def magic(x):\n",
    "    print(f'Inside magic with x = {x}')\n",
    "    if x <= 5:\n",
    "        return\n",
    "    else:\n",
    "        magic(x-1)"
   ]
  },
  {
   "cell_type": "code",
   "execution_count": 8,
   "id": "249dfe04",
   "metadata": {},
   "outputs": [
    {
     "name": "stdout",
     "output_type": "stream",
     "text": [
      "Inside magic with x = 7\n",
      "Inside magic with x = 6\n",
      "Inside magic with x = 5\n"
     ]
    }
   ],
   "source": [
    "magic(7)"
   ]
  },
  {
   "cell_type": "code",
   "execution_count": 6,
   "id": "5c64a51b",
   "metadata": {},
   "outputs": [
    {
     "name": "stdout",
     "output_type": "stream",
     "text": [
      "Inside magic with x = 5\n"
     ]
    }
   ],
   "source": [
    "magic(5)"
   ]
  },
  {
   "cell_type": "code",
   "execution_count": 7,
   "id": "45f54a1e",
   "metadata": {},
   "outputs": [
    {
     "name": "stdout",
     "output_type": "stream",
     "text": [
      "Inside magic with x = 6\n",
      "Inside magic with x = 5\n"
     ]
    }
   ],
   "source": [
    "magic(6)"
   ]
  },
  {
   "cell_type": "code",
   "execution_count": 13,
   "id": "a4bbbfa9",
   "metadata": {},
   "outputs": [],
   "source": [
    "def factorial(x):\n",
    "    print(f'factorial of {x}')\n",
    "    if x == 0:\n",
    "        return 1\n",
    "    else:\n",
    "        return x*factorial(x-1)"
   ]
  },
  {
   "cell_type": "code",
   "execution_count": 15,
   "id": "04e618fa",
   "metadata": {},
   "outputs": [
    {
     "name": "stdout",
     "output_type": "stream",
     "text": [
      "factorial of 4\n",
      "factorial of 3\n",
      "factorial of 2\n",
      "factorial of 1\n",
      "factorial of 0\n",
      "factorial of 4 is 24\n"
     ]
    }
   ],
   "source": [
    "y = 4\n",
    "answer = factorial(y)\n",
    "print(f'factorial of {y} is {answer}')"
   ]
  },
  {
   "cell_type": "markdown",
   "id": "a54b5941",
   "metadata": {},
   "source": [
    "# partitioning"
   ]
  },
  {
   "cell_type": "code",
   "execution_count": 41,
   "id": "3f15b6b3",
   "metadata": {},
   "outputs": [],
   "source": [
    "def partitioning(A, l, r):\n",
    "    montu = A[l]\n",
    "    j = l\n",
    "    for i in range(l+1, r+1):\n",
    "        if montu > A[i]:\n",
    "            j+=1\n",
    "            A[j], A[i] = A[i], A[j]\n",
    "    A[l], A[j] = A[j], A[l]\n",
    "    print(f'A now = {A}')\n",
    "    return j"
   ]
  },
  {
   "cell_type": "code",
   "execution_count": 42,
   "id": "62f76940",
   "metadata": {},
   "outputs": [
    {
     "name": "stdout",
     "output_type": "stream",
     "text": [
      "A now = [1, 4, 2, 3, 4, 6, 9, 9, 7, 6, 8]\n",
      "5\n"
     ]
    }
   ],
   "source": [
    "A = [6,4,2,3,9,8,9,4,7,6,1]\n",
    "m = partitioning(A, 0, len(A)-1)\n",
    "print(m)"
   ]
  },
  {
   "cell_type": "code",
   "execution_count": 17,
   "id": "1733cd29",
   "metadata": {},
   "outputs": [],
   "source": [
    "a = 4\n",
    "b = 10"
   ]
  },
  {
   "cell_type": "code",
   "execution_count": 18,
   "id": "6da6263f",
   "metadata": {},
   "outputs": [],
   "source": [
    "a,b = b, a # swapping in python"
   ]
  },
  {
   "cell_type": "code",
   "execution_count": 19,
   "id": "92fd4410",
   "metadata": {},
   "outputs": [
    {
     "name": "stdout",
     "output_type": "stream",
     "text": [
      "a is 10 and b is 4\n"
     ]
    }
   ],
   "source": [
    "print(f'a is {a} and b is {b}')"
   ]
  },
  {
   "cell_type": "code",
   "execution_count": 43,
   "id": "d8fc011e",
   "metadata": {},
   "outputs": [],
   "source": [
    "def quicksort(A, l, r):\n",
    "    if l >= r:\n",
    "        return\n",
    "    m = partitioning(A, l, r)\n",
    "    quicksort(A, l, m-1)\n",
    "    quicksort(A, m+1, r)"
   ]
  },
  {
   "cell_type": "code",
   "execution_count": 46,
   "id": "5463f161",
   "metadata": {},
   "outputs": [
    {
     "name": "stdout",
     "output_type": "stream",
     "text": [
      "A now = [1, 4, 2, 3, 4, 6, 9, 9, 7, 6, 8]\n",
      "A now = [1, 4, 2, 3, 4, 6, 9, 9, 7, 6, 8]\n",
      "A now = [1, 3, 2, 4, 4, 6, 9, 9, 7, 6, 8]\n",
      "A now = [1, 2, 3, 4, 4, 6, 9, 9, 7, 6, 8]\n",
      "A now = [1, 2, 3, 4, 4, 6, 8, 7, 6, 9, 9]\n",
      "A now = [1, 2, 3, 4, 4, 6, 6, 7, 8, 9, 9]\n",
      "A now = [1, 2, 3, 4, 4, 6, 6, 7, 8, 9, 9]\n",
      "\n",
      "Final A=[1, 2, 3, 4, 4, 6, 6, 7, 8, 9, 9]\n"
     ]
    }
   ],
   "source": [
    "A = [6,4,2,3,9,8,9,4,7,6,1]\n",
    "quicksort(A, 0, len(A)-1)\n",
    "print(f'\\nFinal A={A}')"
   ]
  },
  {
   "cell_type": "code",
   "execution_count": null,
   "id": "fe45c898",
   "metadata": {},
   "outputs": [],
   "source": [
    "HOMEWORK: UNDERSTAND QUICKSORT PROPERLY. REWATCH THE SESSION"
   ]
  }
 ],
 "metadata": {
  "kernelspec": {
   "display_name": "Python 3 (ipykernel)",
   "language": "python",
   "name": "python3"
  },
  "language_info": {
   "codemirror_mode": {
    "name": "ipython",
    "version": 3
   },
   "file_extension": ".py",
   "mimetype": "text/x-python",
   "name": "python",
   "nbconvert_exporter": "python",
   "pygments_lexer": "ipython3",
   "version": "3.8.9"
  }
 },
 "nbformat": 4,
 "nbformat_minor": 5
}
