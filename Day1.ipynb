{
 "cells": [
  {
   "cell_type": "markdown",
   "id": "15a300b0",
   "metadata": {},
   "source": [
    "# Linear Search"
   ]
  },
  {
   "cell_type": "code",
   "execution_count": 4,
   "id": "1bc502e9",
   "metadata": {},
   "outputs": [
    {
     "name": "stdout",
     "output_type": "stream",
     "text": [
      "hey I found 56 and at index position 4\n"
     ]
    }
   ],
   "source": [
    "l = [12, 30, -20, 34, 56, 900, 22, 26, 2, 50]\n",
    "\n",
    "key = 56\n",
    "\n",
    "index = 0\n",
    "for number in l:\n",
    "    if number == key:\n",
    "        print(f'hey I found {key} and at index position {index}')\n",
    "    index+=1\n",
    "\n",
    "# Time Complexity: O(n) time because it will in worst case travel through \n",
    "#     the full list of size n."
   ]
  },
  {
   "cell_type": "markdown",
   "id": "047fa91b",
   "metadata": {},
   "source": [
    "# Binary Search"
   ]
  },
  {
   "cell_type": "code",
   "execution_count": 25,
   "id": "2cd89f09",
   "metadata": {},
   "outputs": [
    {
     "name": "stdout",
     "output_type": "stream",
     "text": [
      "[-20, 2, 12, 22, 26, 30, 34, 50, 56, 900]\n",
      "22 5\n",
      "look at the left handside of 30 which is= [-20, 2, 12, 22, 26]\n"
     ]
    }
   ],
   "source": [
    "l = [12, 30, -20, 34, 56, 900, 22, 26, 2, 50]\n",
    "\n",
    "key = 22\n",
    "l.sort() # sort/arrange the array\n",
    "print(l)\n",
    "n = len(l)\n",
    "mid = n//2\n",
    "print(key, mid)\n",
    "if mid == key:\n",
    "    print('found')\n",
    "elif key>l[mid]:\n",
    "    print(key, mid)\n",
    "    print('look at the right handside of ', l[mid], 'which is=', l[mid+1:])\n",
    "else:\n",
    "    print('look at the left handside of', l[mid], 'which is=', l[:mid])"
   ]
  },
  {
   "cell_type": "code",
   "execution_count": 8,
   "id": "aa9f4218",
   "metadata": {},
   "outputs": [
    {
     "data": {
      "text/plain": [
       "2"
      ]
     },
     "execution_count": 8,
     "metadata": {},
     "output_type": "execute_result"
    }
   ],
   "source": [
    "5//2"
   ]
  },
  {
   "cell_type": "code",
   "execution_count": 13,
   "id": "61726dca",
   "metadata": {},
   "outputs": [
    {
     "data": {
      "text/plain": [
       "2"
      ]
     },
     "execution_count": 13,
     "metadata": {},
     "output_type": "execute_result"
    }
   ],
   "source": [
    "4//2"
   ]
  },
  {
   "cell_type": "code",
   "execution_count": 49,
   "id": "b7353335",
   "metadata": {},
   "outputs": [],
   "source": [
    "def binary_search(l, key):\n",
    "    n = len(l)\n",
    "    mid = n//2\n",
    "    if l[mid] == key:\n",
    "        print(f'found it in list {l}')\n",
    "    elif key > l[mid]:\n",
    "        print(f'look at the right handside of {l[mid]} in array {l}')\n",
    "        binary_search(l[mid+1:],key)\n",
    "    else:\n",
    "        print(f'look at the left handside of {l[mid]} in array {l}')\n",
    "        binary_search(l[:mid],key)"
   ]
  },
  {
   "cell_type": "code",
   "execution_count": 51,
   "id": "b7c2d3e4",
   "metadata": {},
   "outputs": [
    {
     "name": "stdout",
     "output_type": "stream",
     "text": [
      "initial list [-20, 2, 12, 22, 26, 30, 34, 50, 56, 900]\n",
      "look at the left handside of 30 in array [-20, 2, 12, 22, 26, 30, 34, 50, 56, 900]\n",
      "found it in list [-20, 2, 12, 22, 26]\n"
     ]
    }
   ],
   "source": [
    "l = [12, 30, -20, 34, 56, 900, 22, 26, 2, 50]\n",
    "l.sort()\n",
    "print(f'initial list {l}')\n",
    "key = 12\n",
    "binary_search(l, key)"
   ]
  },
  {
   "cell_type": "code",
   "execution_count": 52,
   "id": "afaa0c03",
   "metadata": {},
   "outputs": [],
   "source": [
    "# HOMEWORK: Use left, right index positions to find out the index position\n",
    "# of the key in the sorted array in binary search."
   ]
  },
  {
   "cell_type": "markdown",
   "id": "087561b5",
   "metadata": {},
   "source": [
    "# SORTING"
   ]
  },
  {
   "cell_type": "code",
   "execution_count": null,
   "id": "81244d92",
   "metadata": {},
   "outputs": [],
   "source": [
    "Arranging anything in a order, like arranging numbers from \n",
    "smaller to bigger."
   ]
  },
  {
   "cell_type": "code",
   "execution_count": 54,
   "id": "85636ac7",
   "metadata": {},
   "outputs": [
    {
     "name": "stdout",
     "output_type": "stream",
     "text": [
      "[27, 33, 34, 50, 69, 78, 90]\n"
     ]
    }
   ],
   "source": [
    "l = [34, 90, 27, 69, 33, 78, 50]\n",
    "print(sorted(l))"
   ]
  },
  {
   "cell_type": "code",
   "execution_count": null,
   "id": "430271e0",
   "metadata": {},
   "outputs": [],
   "source": [
    "# To make our understanding of algorithms better, we will be solving\n",
    "# this classic problem with minimal things."
   ]
  },
  {
   "cell_type": "markdown",
   "id": "bd61b176",
   "metadata": {},
   "source": [
    "# bubble sort"
   ]
  },
  {
   "cell_type": "code",
   "execution_count": 71,
   "id": "00057e8a",
   "metadata": {},
   "outputs": [
    {
     "name": "stdout",
     "output_type": "stream",
     "text": [
      "[-22, -19, 2, 27, 30, 33, 34, 50, 69, 78, 90]\n"
     ]
    }
   ],
   "source": [
    "l = [34, 90, 27, 69, 33, 78, 50, 2, -19, 30, -22]\n",
    "\n",
    "rightmost_index = len(l)-1\n",
    "\n",
    "while(rightmost_index > 0):\n",
    "    for moving_index in range(0, rightmost_index):\n",
    "        if l[moving_index] > l[moving_index+1]:\n",
    "            l[moving_index],l[moving_index+1] = l[moving_index+1],l[moving_index]\n",
    "    rightmost_index-=1\n",
    "print(l)"
   ]
  },
  {
   "cell_type": "code",
   "execution_count": null,
   "id": "1aaa534c",
   "metadata": {},
   "outputs": [],
   "source": []
  }
 ],
 "metadata": {
  "kernelspec": {
   "display_name": "Python 3 (ipykernel)",
   "language": "python",
   "name": "python3"
  },
  "language_info": {
   "codemirror_mode": {
    "name": "ipython",
    "version": 3
   },
   "file_extension": ".py",
   "mimetype": "text/x-python",
   "name": "python",
   "nbconvert_exporter": "python",
   "pygments_lexer": "ipython3",
   "version": "3.8.9"
  }
 },
 "nbformat": 4,
 "nbformat_minor": 5
}
